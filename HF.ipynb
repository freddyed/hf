{
 "cells": [
  {
   "cell_type": "code",
   "execution_count": null,
   "id": "0baeed06-f884-4d1d-913a-5a3c389368d5",
   "metadata": {},
   "outputs": [],
   "source": [
    "!pip install transformers\n",
    "!pip install timm"
   ]
  },
  {
   "cell_type": "code",
   "execution_count": 2,
   "id": "1c049803-7303-4cb4-8e84-5a19ddc83aef",
   "metadata": {},
   "outputs": [
    {
     "name": "stderr",
     "output_type": "stream",
     "text": [
      "c:\\Users\\Fred\\AppData\\Local\\Programs\\Python\\Python311\\Lib\\site-packages\\tqdm\\auto.py:21: TqdmWarning: IProgress not found. Please update jupyter and ipywidgets. See https://ipywidgets.readthedocs.io/en/stable/user_install.html\n",
      "  from .autonotebook import tqdm as notebook_tqdm\n"
     ]
    }
   ],
   "source": [
    "from transformers import pipeline"
   ]
  },
  {
   "cell_type": "code",
   "execution_count": 3,
   "id": "0b205a13-e2cf-44b4-94e2-9ccfa315278c",
   "metadata": {},
   "outputs": [
    {
     "name": "stderr",
     "output_type": "stream",
     "text": [
      "No model was supplied, defaulted to google/vit-base-patch16-224 and revision 5dca96d (https://huggingface.co/google/vit-base-patch16-224).\n",
      "Using a pipeline without specifying a model name and revision in production is not recommended.\n",
      "Downloading (…)lve/main/config.json: 100%|██████████| 69.7k/69.7k [00:00<00:00, 1.31MB/s]\n",
      "c:\\Users\\Fred\\AppData\\Local\\Programs\\Python\\Python311\\Lib\\site-packages\\huggingface_hub\\file_download.py:137: UserWarning: `huggingface_hub` cache-system uses symlinks by default to efficiently store duplicated files but your machine does not support them in C:\\Users\\Fred\\.cache\\huggingface\\hub. Caching files will still work but in a degraded version that might require more space on your disk. This warning can be disabled by setting the `HF_HUB_DISABLE_SYMLINKS_WARNING` environment variable. For more details, see https://huggingface.co/docs/huggingface_hub/how-to-cache#limitations.\n",
      "To support symlinks on Windows, you either need to activate Developer Mode or to run Python as an administrator. In order to see activate developer mode, see this article: https://docs.microsoft.com/en-us/windows/apps/get-started/enable-your-device-for-development\n",
      "  warnings.warn(message)\n",
      "Downloading model.safetensors: 100%|██████████| 346M/346M [01:07<00:00, 5.13MB/s] \n",
      "Downloading (…)rocessor_config.json: 100%|██████████| 160/160 [00:00<00:00, 163kB/s]\n"
     ]
    }
   ],
   "source": [
    "clasificador_img = pipeline(task = \"image-classification\")"
   ]
  },
  {
   "cell_type": "code",
   "execution_count": 8,
   "id": "af9b1101",
   "metadata": {},
   "outputs": [
    {
     "data": {
      "text/plain": [
       "[{'score': 0.9956142902374268, 'label': 'orange'},\n",
       " {'score': 0.002132854424417019, 'label': 'lemon'},\n",
       " {'score': 0.00018400183762423694, 'label': 'banana'},\n",
       " {'score': 0.00018115242710337043, 'label': 'strawberry'},\n",
       " {'score': 0.00017910718452185392, 'label': 'Granny Smith'}]"
      ]
     },
     "execution_count": 8,
     "metadata": {},
     "output_type": "execute_result"
    }
   ],
   "source": [
    "clasificador_img(\"platano.jpg\")"
   ]
  },
  {
   "cell_type": "code",
   "execution_count": 7,
   "id": "bf13d2a5",
   "metadata": {},
   "outputs": [
    {
     "data": {
      "text/plain": [
       "[{'score': 0.9980593323707581, 'label': 'strawberry'},\n",
       " {'score': 5.565174433286302e-05, 'label': 'tray'},\n",
       " {'score': 3.687888602144085e-05, 'label': 'banana'},\n",
       " {'score': 3.626678153523244e-05, 'label': 'candle, taper, wax light'},\n",
       " {'score': 3.297948569525033e-05, 'label': 'strainer'}]"
      ]
     },
     "execution_count": 7,
     "metadata": {},
     "output_type": "execute_result"
    }
   ],
   "source": [
    "clasificador_img(\"fresa.jpg\")"
   ]
  },
  {
   "cell_type": "code",
   "execution_count": 9,
   "id": "854c53cb",
   "metadata": {},
   "outputs": [
    {
     "data": {
      "text/plain": [
       "[{'score': 0.973352313041687, 'label': 'banana'},\n",
       " {'score': 0.0011916920775547624, 'label': 'lemon'},\n",
       " {'score': 0.0010754804825410247, 'label': 'strawberry'},\n",
       " {'score': 0.001018382259644568, 'label': 'spaghetti squash'},\n",
       " {'score': 0.0008023905684240162, 'label': 'orange'}]"
      ]
     },
     "execution_count": 9,
     "metadata": {},
     "output_type": "execute_result"
    }
   ],
   "source": [
    "clasificador_img(\"naranja.jpg\")"
   ]
  },
  {
   "cell_type": "code",
   "execution_count": 10,
   "id": "966554e1",
   "metadata": {},
   "outputs": [
    {
     "name": "stderr",
     "output_type": "stream",
     "text": [
      "Downloading (…)lve/main/config.json: 100%|██████████| 702/702 [00:00<00:00, 718kB/s]\n",
      "Downloading pytorch_model.bin: 100%|██████████| 2.33G/2.33G [08:07<00:00, 4.78MB/s]\n",
      "Downloading (…)okenizer_config.json: 100%|██████████| 408/408 [00:00<00:00, 410kB/s]\n",
      "Downloading tokenizer.json: 100%|██████████| 16.3M/16.3M [00:02<00:00, 7.45MB/s]\n",
      "Downloading (…)cial_tokens_map.json: 100%|██████████| 65.0/65.0 [00:00<00:00, 65.1kB/s]\n"
     ]
    }
   ],
   "source": [
    "summarization_es = pipeline(\n",
    "    task=\"summarization\",\n",
    "    model=\"IIC/mt5-spanish-mlsum\"\n",
    ")"
   ]
  },
  {
   "cell_type": "code",
   "execution_count": 11,
   "id": "6cb88621",
   "metadata": {},
   "outputs": [
    {
     "data": {
      "text/plain": [
       "[{'summary_text': 'La nueva corporación LGBTIQ+ abre la posibilidad de construir espacios seguros para la diversidad. La nueva corporación abre la posibilidad de tramitar leyes que respondan a la lucha de las diversidades sexuales y de género'}]"
      ]
     },
     "execution_count": 11,
     "metadata": {},
     "output_type": "execute_result"
    }
   ],
   "source": [
    "texto = \"\"\"\n",
    "\n",
    "Las personas con orientaciones sexuales y de género diversas históricamente han sido una población excluida de la participación política electoral en Colombia. Sin embargo, durante los últimos veinte años la consolidación del movimiento LGBTIQ+, que hoy tiene un gran potencial de movilización y organización, ha llevado a la conquista de espacios donde antes solo eran posibles estando “enclosetados”. (Así se vivió la marcha del Orgullo LGBTIQ+ 2022 | La Disidencia)\n",
    "\n",
    "Las elecciones legislativas del 13 de marzo de 2022 fueron un hito para la población diversa. Por un lado, hubo 26 candidaturas abiertamente LGBTIQ+, que representan un aumento del 85,7 % de participación en comparación a las catorce del 2018. Esto llevó a que, por primera vez, estas personas vayan a ocupar siete curules en el Congreso: una senadora y seis representantes a la Cámara.\n",
    "\n",
    "Angélica Lozano (Alianza Verde) repite su curul del Senado. Las otras seis personas son Susana Boreal (Pacto Histórico), quien ganó un escaño en la Cámara de Representantes por Antioquia; María del Mar Pizarro (Pacto Histórico), en la Cámara por Bogotá; Andrés Cancimance (Pacto Histórico), quien llegará a la Cámara por Putumayo; Carolina Giraldo (Alianza Verde) y Alejandro García (Alianza Verde y Polo), por Risaralda, y Tamara Argote (Pacto Histórico), quien es la primera persona no binaria en llegar al Congreso de la República, estará en la Cámara por Bogotá.\n",
    "\n",
    "Este Congreso 2022-2026, que se posiciona como el más diverso en la historia del país, representa una ampliación del espectro democrático. Alejandro García, representante a la Cámara por Risaralda, lo celebra, pero resalta que “todavía faltan identidades en este espacio de representación y se tiene que velar por construir espacios seguros para pensarnos la diversidad y cuestionarnos cómo integrarla a nuestras vidas desde el ejercicio de la ciudadanía”.\n",
    "\n",
    "Más allá de ganar visibilidad, esta nueva corporación tiene una responsabilidad de hacer control político a promesas que llevan años esperando a ser resueltas, como, por ejemplo, la Política Pública Nacional LGBTIQ+. También, abre la posibilidad para tramitar leyes que respondan a la lucha de las diversidades sexuales y de género, así como de feministas, movimientos étnicos, ambientalistas y otros grupos poblaciones tradicionalmente excluidos.\n",
    "\"\"\"\n",
    "\n",
    "summarization_es(texto, min_length=30, max_length=150)"
   ]
  },
  {
   "cell_type": "code",
   "execution_count": 12,
   "id": "dbbcb363",
   "metadata": {},
   "outputs": [
    {
     "name": "stderr",
     "output_type": "stream",
     "text": [
      "Downloading (…)lve/main/config.json: 100%|██████████| 925/925 [00:00<00:00, 943kB/s]\n",
      "Downloading pytorch_model.bin: 100%|██████████| 435M/435M [01:33<00:00, 4.66MB/s] \n",
      "Downloading (…)okenizer_config.json: 100%|██████████| 384/384 [00:00<00:00, 400kB/s]\n",
      "Downloading (…)/main/tokenizer.json: 100%|██████████| 1.31M/1.31M [00:00<00:00, 7.87MB/s]\n",
      "Downloading (…)cial_tokens_map.json: 100%|██████████| 167/167 [00:00<00:00, 173kB/s]\n"
     ]
    }
   ],
   "source": [
    "sentimiento_pipeline = pipeline(task=\"text-classification\", model=\"pysentimiento/robertuito-sentiment-analysis\")"
   ]
  },
  {
   "cell_type": "code",
   "execution_count": 13,
   "id": "c482f478",
   "metadata": {},
   "outputs": [
    {
     "data": {
      "text/plain": [
       "[{'label': 'POS', 'score': 0.9657066464424133},\n",
       " {'label': 'NEG', 'score': 0.9833595752716064},\n",
       " {'label': 'NEG', 'score': 0.9584293961524963}]"
      ]
     },
     "execution_count": 13,
     "metadata": {},
     "output_type": "execute_result"
    }
   ],
   "source": [
    "textos = [\"¡Me encanta poder aprender en español con Ella y Hugging Face\",\n",
    "         \"Me enoja no tener más material de Hugging Face en español.\",\n",
    "         \"Me es indiferente tener más o menos material\"]\n",
    "\n",
    "sentimiento_pipeline(textos)"
   ]
  },
  {
   "cell_type": "code",
   "execution_count": 14,
   "id": "52cffea0",
   "metadata": {},
   "outputs": [
    {
     "name": "stderr",
     "output_type": "stream",
     "text": [
      "Downloading (…)lve/main/config.json: 100%|██████████| 625/625 [00:00<00:00, 605kB/s]\n",
      "Downloading (…)model.bin.index.json: 100%|██████████| 26.8k/26.8k [00:00<00:00, 15.0MB/s]\n",
      "Downloading shards:   0%|          | 0/2 [00:00<?, ?it/s]"
     ]
    }
   ],
   "source": [
    "from transformers import AutoModelForCausalLM, AutoTokenizer, pipeline \n",
    "\n",
    "model_id = \"clibrain/Llama-2-7b-ft-instruct-es\"\n",
    "\n",
    "model = AutoModelForCausalLM.from_pretrained(model_id, trust_remote_code=True).to(\"cuda\")\n",
    "tokenizer = AutoTokenizer.from_pretrained(model_id)\n",
    "\n",
    "pipe = pipeline(task=\"text-generation\", model=model, tokenizer=tokenizer, max_length=200, device=0)\n",
    "\n",
    "prompt = \"\"\"\n",
    "A continuación hay una instrucción que describe una tarea. Escriba una respuesta que complete adecuadamente la solicitud.\n",
    "### Instrucción:\n",
    "Dame una lista de 5 lugares a visitar en España.\n",
    "\n",
    "### Respuesta:\n",
    "\"\"\"\n",
    "\n",
    "result = pipe(prompt)\n",
    "print(result[0]['generated_text'])"
   ]
  }
 ],
 "metadata": {
  "kernelspec": {
   "display_name": "Python 3 (ipykernel)",
   "language": "python",
   "name": "python3"
  },
  "language_info": {
   "codemirror_mode": {
    "name": "ipython",
    "version": 3
   },
   "file_extension": ".py",
   "mimetype": "text/x-python",
   "name": "python",
   "nbconvert_exporter": "python",
   "pygments_lexer": "ipython3",
   "version": "3.11.4"
  }
 },
 "nbformat": 4,
 "nbformat_minor": 5
}
